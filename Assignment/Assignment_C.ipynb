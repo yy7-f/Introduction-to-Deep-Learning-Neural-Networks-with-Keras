{
 "cells": [
  {
   "cell_type": "markdown",
   "metadata": {},
   "source": [
    "# Peer-graded Assignment: Build a Regression Model in Keras"
   ]
  },
  {
   "cell_type": "markdown",
   "metadata": {},
   "source": [
    "# Download and Clean Dataset"
   ]
  },
  {
   "cell_type": "markdown",
   "metadata": {},
   "source": [
    "Let's start by importing the pandas and the Numpy libraries."
   ]
  },
  {
   "cell_type": "code",
   "execution_count": 4,
   "metadata": {},
   "outputs": [],
   "source": [
    "import pandas as pd\n",
    "import numpy as np"
   ]
  },
  {
   "cell_type": "markdown",
   "metadata": {},
   "source": [
    "We will be using the dataset provided in the assignment\n",
    "\n",
    "The dataset is about the compressive strength of different samples of concrete based on the volumes of the different ingredients that were used to make them. Ingredients include:\n",
    "\n",
    "1. Cement\n",
    "\n",
    "2. Blast Furnace Slag\n",
    "\n",
    "3. Fly Ash\n",
    "\n",
    "4. Water\n",
    "\n",
    "5. Superplasticizer\n",
    "\n",
    "6. Coarse Aggregate\n",
    "\n",
    "7. Fine Aggregate\n",
    "\n",
    "Let's read the dataset into a pandas dataframe."
   ]
  },
  {
   "cell_type": "code",
   "execution_count": 5,
   "metadata": {},
   "outputs": [
    {
     "data": {
      "text/html": [
       "<div>\n",
       "<style scoped>\n",
       "    .dataframe tbody tr th:only-of-type {\n",
       "        vertical-align: middle;\n",
       "    }\n",
       "\n",
       "    .dataframe tbody tr th {\n",
       "        vertical-align: top;\n",
       "    }\n",
       "\n",
       "    .dataframe thead th {\n",
       "        text-align: right;\n",
       "    }\n",
       "</style>\n",
       "<table border=\"1\" class=\"dataframe\">\n",
       "  <thead>\n",
       "    <tr style=\"text-align: right;\">\n",
       "      <th></th>\n",
       "      <th>Cement</th>\n",
       "      <th>Blast Furnace Slag</th>\n",
       "      <th>Fly Ash</th>\n",
       "      <th>Water</th>\n",
       "      <th>Superplasticizer</th>\n",
       "      <th>Coarse Aggregate</th>\n",
       "      <th>Fine Aggregate</th>\n",
       "      <th>Age</th>\n",
       "      <th>Strength</th>\n",
       "    </tr>\n",
       "  </thead>\n",
       "  <tbody>\n",
       "    <tr>\n",
       "      <th>0</th>\n",
       "      <td>540.0</td>\n",
       "      <td>0.0</td>\n",
       "      <td>0.0</td>\n",
       "      <td>162.0</td>\n",
       "      <td>2.5</td>\n",
       "      <td>1040.0</td>\n",
       "      <td>676.0</td>\n",
       "      <td>28</td>\n",
       "      <td>79.99</td>\n",
       "    </tr>\n",
       "    <tr>\n",
       "      <th>1</th>\n",
       "      <td>540.0</td>\n",
       "      <td>0.0</td>\n",
       "      <td>0.0</td>\n",
       "      <td>162.0</td>\n",
       "      <td>2.5</td>\n",
       "      <td>1055.0</td>\n",
       "      <td>676.0</td>\n",
       "      <td>28</td>\n",
       "      <td>61.89</td>\n",
       "    </tr>\n",
       "    <tr>\n",
       "      <th>2</th>\n",
       "      <td>332.5</td>\n",
       "      <td>142.5</td>\n",
       "      <td>0.0</td>\n",
       "      <td>228.0</td>\n",
       "      <td>0.0</td>\n",
       "      <td>932.0</td>\n",
       "      <td>594.0</td>\n",
       "      <td>270</td>\n",
       "      <td>40.27</td>\n",
       "    </tr>\n",
       "    <tr>\n",
       "      <th>3</th>\n",
       "      <td>332.5</td>\n",
       "      <td>142.5</td>\n",
       "      <td>0.0</td>\n",
       "      <td>228.0</td>\n",
       "      <td>0.0</td>\n",
       "      <td>932.0</td>\n",
       "      <td>594.0</td>\n",
       "      <td>365</td>\n",
       "      <td>41.05</td>\n",
       "    </tr>\n",
       "    <tr>\n",
       "      <th>4</th>\n",
       "      <td>198.6</td>\n",
       "      <td>132.4</td>\n",
       "      <td>0.0</td>\n",
       "      <td>192.0</td>\n",
       "      <td>0.0</td>\n",
       "      <td>978.4</td>\n",
       "      <td>825.5</td>\n",
       "      <td>360</td>\n",
       "      <td>44.30</td>\n",
       "    </tr>\n",
       "  </tbody>\n",
       "</table>\n",
       "</div>"
      ],
      "text/plain": [
       "   Cement  Blast Furnace Slag  Fly Ash  Water  Superplasticizer  \\\n",
       "0   540.0                 0.0      0.0  162.0               2.5   \n",
       "1   540.0                 0.0      0.0  162.0               2.5   \n",
       "2   332.5               142.5      0.0  228.0               0.0   \n",
       "3   332.5               142.5      0.0  228.0               0.0   \n",
       "4   198.6               132.4      0.0  192.0               0.0   \n",
       "\n",
       "   Coarse Aggregate  Fine Aggregate  Age  Strength  \n",
       "0            1040.0           676.0   28     79.99  \n",
       "1            1055.0           676.0   28     61.89  \n",
       "2             932.0           594.0  270     40.27  \n",
       "3             932.0           594.0  365     41.05  \n",
       "4             978.4           825.5  360     44.30  "
      ]
     },
     "execution_count": 5,
     "metadata": {},
     "output_type": "execute_result"
    }
   ],
   "source": [
    "concrete_data = pd.read_csv('https://cocl.us/concrete_data')\n",
    "concrete_data.head()"
   ]
  },
  {
   "cell_type": "code",
   "execution_count": 6,
   "metadata": {},
   "outputs": [
    {
     "data": {
      "text/plain": [
       "(1030, 9)"
      ]
     },
     "execution_count": 6,
     "metadata": {},
     "output_type": "execute_result"
    }
   ],
   "source": [
    "concrete_data.shape"
   ]
  },
  {
   "cell_type": "code",
   "execution_count": 7,
   "metadata": {},
   "outputs": [
    {
     "data": {
      "text/html": [
       "<div>\n",
       "<style scoped>\n",
       "    .dataframe tbody tr th:only-of-type {\n",
       "        vertical-align: middle;\n",
       "    }\n",
       "\n",
       "    .dataframe tbody tr th {\n",
       "        vertical-align: top;\n",
       "    }\n",
       "\n",
       "    .dataframe thead th {\n",
       "        text-align: right;\n",
       "    }\n",
       "</style>\n",
       "<table border=\"1\" class=\"dataframe\">\n",
       "  <thead>\n",
       "    <tr style=\"text-align: right;\">\n",
       "      <th></th>\n",
       "      <th>Cement</th>\n",
       "      <th>Blast Furnace Slag</th>\n",
       "      <th>Fly Ash</th>\n",
       "      <th>Water</th>\n",
       "      <th>Superplasticizer</th>\n",
       "      <th>Coarse Aggregate</th>\n",
       "      <th>Fine Aggregate</th>\n",
       "      <th>Age</th>\n",
       "      <th>Strength</th>\n",
       "    </tr>\n",
       "  </thead>\n",
       "  <tbody>\n",
       "    <tr>\n",
       "      <th>count</th>\n",
       "      <td>1030.000000</td>\n",
       "      <td>1030.000000</td>\n",
       "      <td>1030.000000</td>\n",
       "      <td>1030.000000</td>\n",
       "      <td>1030.000000</td>\n",
       "      <td>1030.000000</td>\n",
       "      <td>1030.000000</td>\n",
       "      <td>1030.000000</td>\n",
       "      <td>1030.000000</td>\n",
       "    </tr>\n",
       "    <tr>\n",
       "      <th>mean</th>\n",
       "      <td>281.167864</td>\n",
       "      <td>73.895825</td>\n",
       "      <td>54.188350</td>\n",
       "      <td>181.567282</td>\n",
       "      <td>6.204660</td>\n",
       "      <td>972.918932</td>\n",
       "      <td>773.580485</td>\n",
       "      <td>45.662136</td>\n",
       "      <td>35.817961</td>\n",
       "    </tr>\n",
       "    <tr>\n",
       "      <th>std</th>\n",
       "      <td>104.506364</td>\n",
       "      <td>86.279342</td>\n",
       "      <td>63.997004</td>\n",
       "      <td>21.354219</td>\n",
       "      <td>5.973841</td>\n",
       "      <td>77.753954</td>\n",
       "      <td>80.175980</td>\n",
       "      <td>63.169912</td>\n",
       "      <td>16.705742</td>\n",
       "    </tr>\n",
       "    <tr>\n",
       "      <th>min</th>\n",
       "      <td>102.000000</td>\n",
       "      <td>0.000000</td>\n",
       "      <td>0.000000</td>\n",
       "      <td>121.800000</td>\n",
       "      <td>0.000000</td>\n",
       "      <td>801.000000</td>\n",
       "      <td>594.000000</td>\n",
       "      <td>1.000000</td>\n",
       "      <td>2.330000</td>\n",
       "    </tr>\n",
       "    <tr>\n",
       "      <th>25%</th>\n",
       "      <td>192.375000</td>\n",
       "      <td>0.000000</td>\n",
       "      <td>0.000000</td>\n",
       "      <td>164.900000</td>\n",
       "      <td>0.000000</td>\n",
       "      <td>932.000000</td>\n",
       "      <td>730.950000</td>\n",
       "      <td>7.000000</td>\n",
       "      <td>23.710000</td>\n",
       "    </tr>\n",
       "    <tr>\n",
       "      <th>50%</th>\n",
       "      <td>272.900000</td>\n",
       "      <td>22.000000</td>\n",
       "      <td>0.000000</td>\n",
       "      <td>185.000000</td>\n",
       "      <td>6.400000</td>\n",
       "      <td>968.000000</td>\n",
       "      <td>779.500000</td>\n",
       "      <td>28.000000</td>\n",
       "      <td>34.445000</td>\n",
       "    </tr>\n",
       "    <tr>\n",
       "      <th>75%</th>\n",
       "      <td>350.000000</td>\n",
       "      <td>142.950000</td>\n",
       "      <td>118.300000</td>\n",
       "      <td>192.000000</td>\n",
       "      <td>10.200000</td>\n",
       "      <td>1029.400000</td>\n",
       "      <td>824.000000</td>\n",
       "      <td>56.000000</td>\n",
       "      <td>46.135000</td>\n",
       "    </tr>\n",
       "    <tr>\n",
       "      <th>max</th>\n",
       "      <td>540.000000</td>\n",
       "      <td>359.400000</td>\n",
       "      <td>200.100000</td>\n",
       "      <td>247.000000</td>\n",
       "      <td>32.200000</td>\n",
       "      <td>1145.000000</td>\n",
       "      <td>992.600000</td>\n",
       "      <td>365.000000</td>\n",
       "      <td>82.600000</td>\n",
       "    </tr>\n",
       "  </tbody>\n",
       "</table>\n",
       "</div>"
      ],
      "text/plain": [
       "            Cement  Blast Furnace Slag      Fly Ash        Water  \\\n",
       "count  1030.000000         1030.000000  1030.000000  1030.000000   \n",
       "mean    281.167864           73.895825    54.188350   181.567282   \n",
       "std     104.506364           86.279342    63.997004    21.354219   \n",
       "min     102.000000            0.000000     0.000000   121.800000   \n",
       "25%     192.375000            0.000000     0.000000   164.900000   \n",
       "50%     272.900000           22.000000     0.000000   185.000000   \n",
       "75%     350.000000          142.950000   118.300000   192.000000   \n",
       "max     540.000000          359.400000   200.100000   247.000000   \n",
       "\n",
       "       Superplasticizer  Coarse Aggregate  Fine Aggregate          Age  \\\n",
       "count       1030.000000       1030.000000     1030.000000  1030.000000   \n",
       "mean           6.204660        972.918932      773.580485    45.662136   \n",
       "std            5.973841         77.753954       80.175980    63.169912   \n",
       "min            0.000000        801.000000      594.000000     1.000000   \n",
       "25%            0.000000        932.000000      730.950000     7.000000   \n",
       "50%            6.400000        968.000000      779.500000    28.000000   \n",
       "75%           10.200000       1029.400000      824.000000    56.000000   \n",
       "max           32.200000       1145.000000      992.600000   365.000000   \n",
       "\n",
       "          Strength  \n",
       "count  1030.000000  \n",
       "mean     35.817961  \n",
       "std      16.705742  \n",
       "min       2.330000  \n",
       "25%      23.710000  \n",
       "50%      34.445000  \n",
       "75%      46.135000  \n",
       "max      82.600000  "
      ]
     },
     "execution_count": 7,
     "metadata": {},
     "output_type": "execute_result"
    }
   ],
   "source": [
    "concrete_data.describe()"
   ]
  },
  {
   "cell_type": "code",
   "execution_count": 8,
   "metadata": {},
   "outputs": [
    {
     "data": {
      "text/plain": [
       "Cement                0\n",
       "Blast Furnace Slag    0\n",
       "Fly Ash               0\n",
       "Water                 0\n",
       "Superplasticizer      0\n",
       "Coarse Aggregate      0\n",
       "Fine Aggregate        0\n",
       "Age                   0\n",
       "Strength              0\n",
       "dtype: int64"
      ]
     },
     "execution_count": 8,
     "metadata": {},
     "output_type": "execute_result"
    }
   ],
   "source": [
    "concrete_data.isnull().sum()"
   ]
  },
  {
   "cell_type": "markdown",
   "metadata": {},
   "source": [
    "Split data into predictors and target"
   ]
  },
  {
   "cell_type": "code",
   "execution_count": 9,
   "metadata": {},
   "outputs": [],
   "source": [
    "concrete_data_columns = concrete_data.columns\n",
    "predictors = concrete_data[concrete_data_columns[concrete_data_columns != \"Strength\"]] # all columns except Strength\n",
    "target = concrete_data['Strength']"
   ]
  },
  {
   "cell_type": "code",
   "execution_count": 10,
   "metadata": {},
   "outputs": [
    {
     "data": {
      "text/html": [
       "<div>\n",
       "<style scoped>\n",
       "    .dataframe tbody tr th:only-of-type {\n",
       "        vertical-align: middle;\n",
       "    }\n",
       "\n",
       "    .dataframe tbody tr th {\n",
       "        vertical-align: top;\n",
       "    }\n",
       "\n",
       "    .dataframe thead th {\n",
       "        text-align: right;\n",
       "    }\n",
       "</style>\n",
       "<table border=\"1\" class=\"dataframe\">\n",
       "  <thead>\n",
       "    <tr style=\"text-align: right;\">\n",
       "      <th></th>\n",
       "      <th>Cement</th>\n",
       "      <th>Blast Furnace Slag</th>\n",
       "      <th>Fly Ash</th>\n",
       "      <th>Water</th>\n",
       "      <th>Superplasticizer</th>\n",
       "      <th>Coarse Aggregate</th>\n",
       "      <th>Fine Aggregate</th>\n",
       "      <th>Age</th>\n",
       "    </tr>\n",
       "  </thead>\n",
       "  <tbody>\n",
       "    <tr>\n",
       "      <th>0</th>\n",
       "      <td>540.0</td>\n",
       "      <td>0.0</td>\n",
       "      <td>0.0</td>\n",
       "      <td>162.0</td>\n",
       "      <td>2.5</td>\n",
       "      <td>1040.0</td>\n",
       "      <td>676.0</td>\n",
       "      <td>28</td>\n",
       "    </tr>\n",
       "    <tr>\n",
       "      <th>1</th>\n",
       "      <td>540.0</td>\n",
       "      <td>0.0</td>\n",
       "      <td>0.0</td>\n",
       "      <td>162.0</td>\n",
       "      <td>2.5</td>\n",
       "      <td>1055.0</td>\n",
       "      <td>676.0</td>\n",
       "      <td>28</td>\n",
       "    </tr>\n",
       "    <tr>\n",
       "      <th>2</th>\n",
       "      <td>332.5</td>\n",
       "      <td>142.5</td>\n",
       "      <td>0.0</td>\n",
       "      <td>228.0</td>\n",
       "      <td>0.0</td>\n",
       "      <td>932.0</td>\n",
       "      <td>594.0</td>\n",
       "      <td>270</td>\n",
       "    </tr>\n",
       "    <tr>\n",
       "      <th>3</th>\n",
       "      <td>332.5</td>\n",
       "      <td>142.5</td>\n",
       "      <td>0.0</td>\n",
       "      <td>228.0</td>\n",
       "      <td>0.0</td>\n",
       "      <td>932.0</td>\n",
       "      <td>594.0</td>\n",
       "      <td>365</td>\n",
       "    </tr>\n",
       "    <tr>\n",
       "      <th>4</th>\n",
       "      <td>198.6</td>\n",
       "      <td>132.4</td>\n",
       "      <td>0.0</td>\n",
       "      <td>192.0</td>\n",
       "      <td>0.0</td>\n",
       "      <td>978.4</td>\n",
       "      <td>825.5</td>\n",
       "      <td>360</td>\n",
       "    </tr>\n",
       "  </tbody>\n",
       "</table>\n",
       "</div>"
      ],
      "text/plain": [
       "   Cement  Blast Furnace Slag  Fly Ash  Water  Superplasticizer  \\\n",
       "0   540.0                 0.0      0.0  162.0               2.5   \n",
       "1   540.0                 0.0      0.0  162.0               2.5   \n",
       "2   332.5               142.5      0.0  228.0               0.0   \n",
       "3   332.5               142.5      0.0  228.0               0.0   \n",
       "4   198.6               132.4      0.0  192.0               0.0   \n",
       "\n",
       "   Coarse Aggregate  Fine Aggregate  Age  \n",
       "0            1040.0           676.0   28  \n",
       "1            1055.0           676.0   28  \n",
       "2             932.0           594.0  270  \n",
       "3             932.0           594.0  365  \n",
       "4             978.4           825.5  360  "
      ]
     },
     "execution_count": 10,
     "metadata": {},
     "output_type": "execute_result"
    }
   ],
   "source": [
    "predictors.head()"
   ]
  },
  {
   "cell_type": "code",
   "execution_count": 11,
   "metadata": {},
   "outputs": [
    {
     "data": {
      "text/plain": [
       "0    79.99\n",
       "1    61.89\n",
       "2    40.27\n",
       "3    41.05\n",
       "4    44.30\n",
       "Name: Strength, dtype: float64"
      ]
     },
     "execution_count": 11,
     "metadata": {},
     "output_type": "execute_result"
    }
   ],
   "source": [
    "target.head()"
   ]
  },
  {
   "cell_type": "markdown",
   "metadata": {},
   "source": [
    "normalize the data by subtracting the mean and dividing by the standard deviation. "
   ]
  },
  {
   "cell_type": "code",
   "execution_count": 12,
   "metadata": {},
   "outputs": [
    {
     "data": {
      "text/html": [
       "<div>\n",
       "<style scoped>\n",
       "    .dataframe tbody tr th:only-of-type {\n",
       "        vertical-align: middle;\n",
       "    }\n",
       "\n",
       "    .dataframe tbody tr th {\n",
       "        vertical-align: top;\n",
       "    }\n",
       "\n",
       "    .dataframe thead th {\n",
       "        text-align: right;\n",
       "    }\n",
       "</style>\n",
       "<table border=\"1\" class=\"dataframe\">\n",
       "  <thead>\n",
       "    <tr style=\"text-align: right;\">\n",
       "      <th></th>\n",
       "      <th>Cement</th>\n",
       "      <th>Blast Furnace Slag</th>\n",
       "      <th>Fly Ash</th>\n",
       "      <th>Water</th>\n",
       "      <th>Superplasticizer</th>\n",
       "      <th>Coarse Aggregate</th>\n",
       "      <th>Fine Aggregate</th>\n",
       "      <th>Age</th>\n",
       "    </tr>\n",
       "  </thead>\n",
       "  <tbody>\n",
       "    <tr>\n",
       "      <th>0</th>\n",
       "      <td>537.309562</td>\n",
       "      <td>-0.856472</td>\n",
       "      <td>-0.846733</td>\n",
       "      <td>153.497358</td>\n",
       "      <td>1.461362</td>\n",
       "      <td>1027.48721</td>\n",
       "      <td>666.351468</td>\n",
       "      <td>27.277154</td>\n",
       "    </tr>\n",
       "    <tr>\n",
       "      <th>1</th>\n",
       "      <td>537.309562</td>\n",
       "      <td>-0.856472</td>\n",
       "      <td>-0.846733</td>\n",
       "      <td>153.497358</td>\n",
       "      <td>1.461362</td>\n",
       "      <td>1042.48721</td>\n",
       "      <td>666.351468</td>\n",
       "      <td>27.277154</td>\n",
       "    </tr>\n",
       "    <tr>\n",
       "      <th>2</th>\n",
       "      <td>329.809562</td>\n",
       "      <td>141.643528</td>\n",
       "      <td>-0.846733</td>\n",
       "      <td>219.497358</td>\n",
       "      <td>-1.038638</td>\n",
       "      <td>919.48721</td>\n",
       "      <td>584.351468</td>\n",
       "      <td>269.277154</td>\n",
       "    </tr>\n",
       "    <tr>\n",
       "      <th>3</th>\n",
       "      <td>329.809562</td>\n",
       "      <td>141.643528</td>\n",
       "      <td>-0.846733</td>\n",
       "      <td>219.497358</td>\n",
       "      <td>-1.038638</td>\n",
       "      <td>919.48721</td>\n",
       "      <td>584.351468</td>\n",
       "      <td>364.277154</td>\n",
       "    </tr>\n",
       "    <tr>\n",
       "      <th>4</th>\n",
       "      <td>195.909562</td>\n",
       "      <td>131.543528</td>\n",
       "      <td>-0.846733</td>\n",
       "      <td>183.497358</td>\n",
       "      <td>-1.038638</td>\n",
       "      <td>965.88721</td>\n",
       "      <td>815.851468</td>\n",
       "      <td>359.277154</td>\n",
       "    </tr>\n",
       "  </tbody>\n",
       "</table>\n",
       "</div>"
      ],
      "text/plain": [
       "       Cement  Blast Furnace Slag   Fly Ash       Water  Superplasticizer  \\\n",
       "0  537.309562           -0.856472 -0.846733  153.497358          1.461362   \n",
       "1  537.309562           -0.856472 -0.846733  153.497358          1.461362   \n",
       "2  329.809562          141.643528 -0.846733  219.497358         -1.038638   \n",
       "3  329.809562          141.643528 -0.846733  219.497358         -1.038638   \n",
       "4  195.909562          131.543528 -0.846733  183.497358         -1.038638   \n",
       "\n",
       "   Coarse Aggregate  Fine Aggregate         Age  \n",
       "0        1027.48721      666.351468   27.277154  \n",
       "1        1042.48721      666.351468   27.277154  \n",
       "2         919.48721      584.351468  269.277154  \n",
       "3         919.48721      584.351468  364.277154  \n",
       "4         965.88721      815.851468  359.277154  "
      ]
     },
     "execution_count": 12,
     "metadata": {},
     "output_type": "execute_result"
    }
   ],
   "source": [
    "predictors_norm = (predictors - predictors.mean() / predictors.std())\n",
    "predictors_norm.head()"
   ]
  },
  {
   "cell_type": "code",
   "execution_count": 13,
   "metadata": {},
   "outputs": [
    {
     "data": {
      "text/plain": [
       "8"
      ]
     },
     "execution_count": 13,
     "metadata": {},
     "output_type": "execute_result"
    }
   ],
   "source": [
    "n_cols = predictors_norm.shape[1] # number of predictors\n",
    "n_cols"
   ]
  },
  {
   "cell_type": "markdown",
   "metadata": {},
   "source": [
    "# Import Keras"
   ]
  },
  {
   "cell_type": "code",
   "execution_count": 14,
   "metadata": {},
   "outputs": [],
   "source": [
    "import keras"
   ]
  },
  {
   "cell_type": "markdown",
   "metadata": {},
   "source": [
    "import packages"
   ]
  },
  {
   "cell_type": "code",
   "execution_count": 15,
   "metadata": {},
   "outputs": [],
   "source": [
    "from keras.models import Sequential\n",
    "from keras.layers import Dense"
   ]
  },
  {
   "cell_type": "code",
   "execution_count": 16,
   "metadata": {},
   "outputs": [],
   "source": [
    "# define regression model\n",
    "def regression_model():\n",
    "#     create model\n",
    "    model = Sequential()\n",
    "    model.add(Dense(10, activation='relu', input_shape=(n_cols,)))\n",
    "    model.add(Dense(1))\n",
    "    \n",
    "#     compile model\n",
    "    model.compile(optimizer='adam', loss='mean_squared_error')\n",
    "    return model"
   ]
  },
  {
   "cell_type": "markdown",
   "metadata": {},
   "source": [
    "The above function creates a model that has one hidden layer with 10 neurons and a ReLU activation function. It uses the adam optimizer and the mean squared error as the loss function."
   ]
  },
  {
   "cell_type": "markdown",
   "metadata": {},
   "source": [
    "Split the data into a training and test sets by holding 30% of the data for testing"
   ]
  },
  {
   "cell_type": "code",
   "execution_count": 17,
   "metadata": {},
   "outputs": [],
   "source": [
    "from sklearn.model_selection import train_test_split"
   ]
  },
  {
   "cell_type": "code",
   "execution_count": 18,
   "metadata": {},
   "outputs": [],
   "source": [
    "X_train, X_test, y_train, y_test = train_test_split(predictors_norm, target, test_size=0.3, random_state=42)"
   ]
  },
  {
   "cell_type": "markdown",
   "metadata": {},
   "source": [
    "# Train and Test the Network"
   ]
  },
  {
   "cell_type": "code",
   "execution_count": 19,
   "metadata": {},
   "outputs": [],
   "source": [
    "# build the model \n",
    "model = regression_model()"
   ]
  },
  {
   "cell_type": "markdown",
   "metadata": {},
   "source": [
    "train the model for 100 epochs"
   ]
  },
  {
   "cell_type": "code",
   "execution_count": 20,
   "metadata": {},
   "outputs": [
    {
     "name": "stdout",
     "output_type": "stream",
     "text": [
      "Epoch 1/100\n",
      "23/23 [==============================] - 0s 2ms/step - loss: 9938.0762\n",
      "Epoch 2/100\n",
      "23/23 [==============================] - 0s 3ms/step - loss: 2129.4902\n",
      "Epoch 3/100\n",
      "23/23 [==============================] - 0s 2ms/step - loss: 684.7317\n",
      "Epoch 4/100\n",
      "23/23 [==============================] - 0s 2ms/step - loss: 606.0236\n",
      "Epoch 5/100\n",
      "23/23 [==============================] - 0s 2ms/step - loss: 578.6049\n",
      "Epoch 6/100\n",
      "23/23 [==============================] - 0s 2ms/step - loss: 556.1937\n",
      "Epoch 7/100\n",
      "23/23 [==============================] - 0s 2ms/step - loss: 533.1979\n",
      "Epoch 8/100\n",
      "23/23 [==============================] - 0s 2ms/step - loss: 512.4262\n",
      "Epoch 9/100\n",
      "23/23 [==============================] - 0s 2ms/step - loss: 494.2703\n",
      "Epoch 10/100\n",
      "23/23 [==============================] - 0s 2ms/step - loss: 474.9385\n",
      "Epoch 11/100\n",
      "23/23 [==============================] - 0s 2ms/step - loss: 458.7833\n",
      "Epoch 12/100\n",
      "23/23 [==============================] - 0s 2ms/step - loss: 442.6768\n",
      "Epoch 13/100\n",
      "23/23 [==============================] - 0s 2ms/step - loss: 427.5264\n",
      "Epoch 14/100\n",
      "23/23 [==============================] - 0s 2ms/step - loss: 414.1309\n",
      "Epoch 15/100\n",
      "23/23 [==============================] - 0s 2ms/step - loss: 401.3094\n",
      "Epoch 16/100\n",
      "23/23 [==============================] - 0s 3ms/step - loss: 390.5149\n",
      "Epoch 17/100\n",
      "23/23 [==============================] - 0s 2ms/step - loss: 380.4928\n",
      "Epoch 18/100\n",
      "23/23 [==============================] - 0s 2ms/step - loss: 367.6051\n",
      "Epoch 19/100\n",
      "23/23 [==============================] - 0s 2ms/step - loss: 358.2345\n",
      "Epoch 20/100\n",
      "23/23 [==============================] - 0s 2ms/step - loss: 349.0325\n",
      "Epoch 21/100\n",
      "23/23 [==============================] - 0s 2ms/step - loss: 339.5587\n",
      "Epoch 22/100\n",
      "23/23 [==============================] - 0s 2ms/step - loss: 332.2824\n",
      "Epoch 23/100\n",
      "23/23 [==============================] - 0s 2ms/step - loss: 323.5568\n",
      "Epoch 24/100\n",
      "23/23 [==============================] - 0s 2ms/step - loss: 317.6873\n",
      "Epoch 25/100\n",
      "23/23 [==============================] - 0s 2ms/step - loss: 310.0692\n",
      "Epoch 26/100\n",
      "23/23 [==============================] - 0s 2ms/step - loss: 302.2403\n",
      "Epoch 27/100\n",
      "23/23 [==============================] - 0s 2ms/step - loss: 295.5803\n",
      "Epoch 28/100\n",
      "23/23 [==============================] - 0s 3ms/step - loss: 289.4932\n",
      "Epoch 29/100\n",
      "23/23 [==============================] - 0s 2ms/step - loss: 283.6950\n",
      "Epoch 30/100\n",
      "23/23 [==============================] - 0s 2ms/step - loss: 278.9233\n",
      "Epoch 31/100\n",
      "23/23 [==============================] - 0s 2ms/step - loss: 272.3838\n",
      "Epoch 32/100\n",
      "23/23 [==============================] - 0s 3ms/step - loss: 266.7339\n",
      "Epoch 33/100\n",
      "23/23 [==============================] - 0s 2ms/step - loss: 262.4752\n",
      "Epoch 34/100\n",
      "23/23 [==============================] - 0s 2ms/step - loss: 257.1310\n",
      "Epoch 35/100\n",
      "23/23 [==============================] - 0s 3ms/step - loss: 253.0232\n",
      "Epoch 36/100\n",
      "23/23 [==============================] - 0s 3ms/step - loss: 247.7501\n",
      "Epoch 37/100\n",
      "23/23 [==============================] - 0s 2ms/step - loss: 243.9449\n",
      "Epoch 38/100\n",
      "23/23 [==============================] - 0s 2ms/step - loss: 239.4994\n",
      "Epoch 39/100\n",
      "23/23 [==============================] - 0s 3ms/step - loss: 235.5052\n",
      "Epoch 40/100\n",
      "23/23 [==============================] - 0s 3ms/step - loss: 230.6836\n",
      "Epoch 41/100\n",
      "23/23 [==============================] - 0s 2ms/step - loss: 228.1335\n",
      "Epoch 42/100\n",
      "23/23 [==============================] - 0s 2ms/step - loss: 224.4781\n",
      "Epoch 43/100\n",
      "23/23 [==============================] - 0s 3ms/step - loss: 219.7277\n",
      "Epoch 44/100\n",
      "23/23 [==============================] - 0s 3ms/step - loss: 216.7344\n",
      "Epoch 45/100\n",
      "23/23 [==============================] - 0s 3ms/step - loss: 212.1991\n",
      "Epoch 46/100\n",
      "23/23 [==============================] - 0s 2ms/step - loss: 208.7594\n",
      "Epoch 47/100\n",
      "23/23 [==============================] - 0s 2ms/step - loss: 205.4581\n",
      "Epoch 48/100\n",
      "23/23 [==============================] - 0s 2ms/step - loss: 201.6903\n",
      "Epoch 49/100\n",
      "23/23 [==============================] - 0s 2ms/step - loss: 198.9201\n",
      "Epoch 50/100\n",
      "23/23 [==============================] - 0s 3ms/step - loss: 195.4040\n",
      "Epoch 51/100\n",
      "23/23 [==============================] - 0s 2ms/step - loss: 192.3739\n",
      "Epoch 52/100\n",
      "23/23 [==============================] - 0s 2ms/step - loss: 189.3341\n",
      "Epoch 53/100\n",
      "23/23 [==============================] - 0s 2ms/step - loss: 185.8155\n",
      "Epoch 54/100\n",
      "23/23 [==============================] - 0s 2ms/step - loss: 182.6970\n",
      "Epoch 55/100\n",
      "23/23 [==============================] - 0s 2ms/step - loss: 179.1556\n",
      "Epoch 56/100\n",
      "23/23 [==============================] - 0s 3ms/step - loss: 178.1508\n",
      "Epoch 57/100\n",
      "23/23 [==============================] - 0s 3ms/step - loss: 172.8560\n",
      "Epoch 58/100\n",
      "23/23 [==============================] - 0s 2ms/step - loss: 171.5507\n",
      "Epoch 59/100\n",
      "23/23 [==============================] - 0s 2ms/step - loss: 168.8913\n",
      "Epoch 60/100\n",
      "23/23 [==============================] - 0s 2ms/step - loss: 165.7804\n",
      "Epoch 61/100\n",
      "23/23 [==============================] - 0s 2ms/step - loss: 163.7796\n",
      "Epoch 62/100\n",
      "23/23 [==============================] - 0s 3ms/step - loss: 162.0443\n",
      "Epoch 63/100\n",
      "23/23 [==============================] - 0s 3ms/step - loss: 158.9041\n",
      "Epoch 64/100\n",
      "23/23 [==============================] - 0s 2ms/step - loss: 156.1688\n",
      "Epoch 65/100\n",
      "23/23 [==============================] - 0s 2ms/step - loss: 153.9189\n",
      "Epoch 66/100\n",
      "23/23 [==============================] - 0s 2ms/step - loss: 150.7980\n",
      "Epoch 67/100\n",
      "23/23 [==============================] - 0s 2ms/step - loss: 150.7017\n",
      "Epoch 68/100\n",
      "23/23 [==============================] - 0s 3ms/step - loss: 145.6440\n",
      "Epoch 69/100\n",
      "23/23 [==============================] - 0s 2ms/step - loss: 143.7434\n",
      "Epoch 70/100\n",
      "23/23 [==============================] - 0s 2ms/step - loss: 142.9344\n",
      "Epoch 71/100\n",
      "23/23 [==============================] - 0s 2ms/step - loss: 139.4469\n",
      "Epoch 72/100\n",
      "23/23 [==============================] - 0s 2ms/step - loss: 136.3186\n",
      "Epoch 73/100\n",
      "23/23 [==============================] - 0s 2ms/step - loss: 133.8077\n",
      "Epoch 74/100\n",
      "23/23 [==============================] - 0s 2ms/step - loss: 131.1107\n",
      "Epoch 75/100\n",
      "23/23 [==============================] - 0s 2ms/step - loss: 129.3445\n",
      "Epoch 76/100\n",
      "23/23 [==============================] - 0s 2ms/step - loss: 127.3100\n",
      "Epoch 77/100\n",
      "23/23 [==============================] - 0s 2ms/step - loss: 126.0928\n",
      "Epoch 78/100\n",
      "23/23 [==============================] - 0s 3ms/step - loss: 123.6685\n",
      "Epoch 79/100\n",
      "23/23 [==============================] - 0s 2ms/step - loss: 121.1736\n",
      "Epoch 80/100\n",
      "23/23 [==============================] - 0s 2ms/step - loss: 119.9976\n",
      "Epoch 81/100\n",
      "23/23 [==============================] - 0s 2ms/step - loss: 118.3500\n",
      "Epoch 82/100\n",
      "23/23 [==============================] - 0s 2ms/step - loss: 116.6050\n",
      "Epoch 83/100\n",
      "23/23 [==============================] - 0s 2ms/step - loss: 114.6689\n",
      "Epoch 84/100\n",
      "23/23 [==============================] - 0s 2ms/step - loss: 112.7475\n",
      "Epoch 85/100\n",
      "23/23 [==============================] - 0s 2ms/step - loss: 111.6673\n",
      "Epoch 86/100\n",
      "23/23 [==============================] - 0s 3ms/step - loss: 109.3250\n",
      "Epoch 87/100\n",
      "23/23 [==============================] - 0s 3ms/step - loss: 108.3811\n",
      "Epoch 88/100\n",
      "23/23 [==============================] - 0s 3ms/step - loss: 107.0711\n",
      "Epoch 89/100\n",
      "23/23 [==============================] - 0s 3ms/step - loss: 106.0051\n",
      "Epoch 90/100\n",
      "23/23 [==============================] - 0s 2ms/step - loss: 104.7330\n",
      "Epoch 91/100\n",
      "23/23 [==============================] - 0s 2ms/step - loss: 103.3121\n",
      "Epoch 92/100\n",
      "23/23 [==============================] - 0s 2ms/step - loss: 102.8895\n",
      "Epoch 93/100\n",
      "23/23 [==============================] - 0s 2ms/step - loss: 103.3720\n",
      "Epoch 94/100\n",
      "23/23 [==============================] - 0s 2ms/step - loss: 99.9127\n",
      "Epoch 95/100\n",
      "23/23 [==============================] - 0s 2ms/step - loss: 100.7674\n",
      "Epoch 96/100\n",
      "23/23 [==============================] - 0s 2ms/step - loss: 99.3825\n",
      "Epoch 97/100\n",
      "23/23 [==============================] - 0s 2ms/step - loss: 98.5442\n",
      "Epoch 98/100\n",
      "23/23 [==============================] - 0s 2ms/step - loss: 97.6065\n",
      "Epoch 99/100\n"
     ]
    },
    {
     "name": "stdout",
     "output_type": "stream",
     "text": [
      "23/23 [==============================] - 0s 3ms/step - loss: 96.2549\n",
      "Epoch 100/100\n",
      "23/23 [==============================] - 0s 3ms/step - loss: 98.9160\n"
     ]
    },
    {
     "data": {
      "text/plain": [
       "<keras.callbacks.History at 0x212855c4040>"
      ]
     },
     "execution_count": 20,
     "metadata": {},
     "output_type": "execute_result"
    }
   ],
   "source": [
    "# fit the model\n",
    "epochs = 100\n",
    "model.fit(X_train, y_train, epochs=epochs, verbose=1)"
   ]
  },
  {
   "cell_type": "markdown",
   "metadata": {},
   "source": [
    "evaluate the model on the test data"
   ]
  },
  {
   "cell_type": "code",
   "execution_count": 21,
   "metadata": {},
   "outputs": [
    {
     "name": "stdout",
     "output_type": "stream",
     "text": [
      "10/10 [==============================] - 0s 3ms/step - loss: 100.0110\n"
     ]
    },
    {
     "data": {
      "text/plain": [
       "100.0109634399414"
      ]
     },
     "execution_count": 21,
     "metadata": {},
     "output_type": "execute_result"
    }
   ],
   "source": [
    "loss_val = model.evaluate(X_test, y_test)\n",
    "y_pred = model.predict(X_test)\n",
    "loss_val"
   ]
  },
  {
   "cell_type": "markdown",
   "metadata": {},
   "source": [
    "compute the mean squared error between the predicted concrete strength and the actual concrete strength."
   ]
  },
  {
   "cell_type": "markdown",
   "metadata": {},
   "source": [
    "import the mean_squared_error function from Scikit-learn."
   ]
  },
  {
   "cell_type": "code",
   "execution_count": 22,
   "metadata": {},
   "outputs": [],
   "source": [
    "from sklearn.metrics import mean_squared_error"
   ]
  },
  {
   "cell_type": "code",
   "execution_count": 23,
   "metadata": {},
   "outputs": [
    {
     "name": "stdout",
     "output_type": "stream",
     "text": [
      "100.01096985076101 0.0\n"
     ]
    }
   ],
   "source": [
    "mean_square_error = mean_squared_error(y_test, y_pred)\n",
    "mean = np.mean(mean_square_error)\n",
    "standard_deviation = np.std(mean_square_error)\n",
    "print(mean, standard_deviation)"
   ]
  },
  {
   "cell_type": "markdown",
   "metadata": {},
   "source": [
    "create a list of 50 mean squared errors and report mean and the standard deviation of the mean squared errors."
   ]
  },
  {
   "cell_type": "code",
   "execution_count": 24,
   "metadata": {},
   "outputs": [
    {
     "name": "stdout",
     "output_type": "stream",
     "text": [
      "MSE 1: 63.74424743652344\n",
      "MSE 2: 72.38067626953125\n",
      "MSE 3: 51.79737854003906\n",
      "MSE 4: 56.04531478881836\n",
      "MSE 5: 48.40529251098633\n",
      "MSE 6: 52.60075759887695\n",
      "MSE 7: 52.49094009399414\n",
      "MSE 8: 44.19750213623047\n",
      "MSE 9: 46.262962341308594\n",
      "MSE 10: 52.855499267578125\n",
      "MSE 11: 46.6246223449707\n",
      "MSE 12: 46.600929260253906\n",
      "MSE 13: 50.86151885986328\n",
      "MSE 14: 51.10682678222656\n",
      "MSE 15: 46.64724349975586\n",
      "MSE 16: 37.449520111083984\n",
      "MSE 17: 47.3490104675293\n",
      "MSE 18: 47.42112731933594\n",
      "MSE 19: 46.19331359863281\n",
      "MSE 20: 44.390567779541016\n",
      "MSE 21: 40.773155212402344\n",
      "MSE 22: 44.05078887939453\n",
      "MSE 23: 40.299560546875\n",
      "MSE 24: 44.743038177490234\n",
      "MSE 25: 51.95021057128906\n",
      "MSE 26: 45.45945739746094\n",
      "MSE 27: 47.197288513183594\n",
      "MSE 28: 42.387168884277344\n",
      "MSE 29: 48.38642883300781\n",
      "MSE 30: 46.693241119384766\n",
      "MSE 31: 46.02763366699219\n",
      "MSE 32: 39.13624954223633\n",
      "MSE 33: 44.51093673706055\n",
      "MSE 34: 51.99589538574219\n",
      "MSE 35: 51.06875228881836\n",
      "MSE 36: 51.192047119140625\n",
      "MSE 37: 50.62652587890625\n",
      "MSE 38: 48.79283142089844\n",
      "MSE 39: 50.05881881713867\n",
      "MSE 40: 43.97539520263672\n",
      "MSE 41: 48.217857360839844\n",
      "MSE 42: 49.770259857177734\n",
      "MSE 43: 44.47999954223633\n",
      "MSE 44: 50.08484649658203\n",
      "MSE 45: 51.30467987060547\n",
      "MSE 46: 52.0765266418457\n",
      "MSE 47: 50.98978042602539\n",
      "MSE 48: 45.10230255126953\n",
      "MSE 49: 46.73923110961914\n",
      "MSE 50: 50.35309982299805\n",
      "\n",
      "\n",
      "Below is the mean and standard deviation of 50 mean squared errors with normalized data. Total number of epochs for each training is: 100\n",
      "\n",
      "Mean: 48.47738471418064\n",
      "Standard Deviation: 5.600649576733808\n"
     ]
    }
   ],
   "source": [
    "total_mean_squared_errors = 50\n",
    "epochs = 100\n",
    "mean_squared_errors = []\n",
    "for i in range(0, total_mean_squared_errors):\n",
    "    X_train, X_test, y_train, y_test = train_test_split(predictors_norm, target, test_size=0.3, random_state=i)\n",
    "    model.fit(X_train, y_train, epochs=epochs, verbose=0)\n",
    "    MSE = model.evaluate(X_test, y_test, verbose=0)\n",
    "    print(\"MSE \" + str(i+1) + \": \" + str(MSE))\n",
    "    y_pred = model.predict(X_test)\n",
    "    mean_square_error = mean_squared_error(y_test, y_pred)\n",
    "    mean_squared_errors.append(mean_square_error)\n",
    "    \n",
    "mean_squared_errors = np.array(mean_squared_errors)\n",
    "mean = np.mean(mean_squared_errors)\n",
    "standard_deviation = np.std(mean_squared_errors)\n",
    "\n",
    "print('\\n')\n",
    "print(\"Below is the mean and standard deviation of \" +str(total_mean_squared_errors) + \" mean squared errors with normalized data. Total number of epochs for each training is: \" +str(epochs) + \"\\n\")\n",
    "print(\"Mean: \"+str(mean))\n",
    "print(\"Standard Deviation: \"+str(standard_deviation))\n",
    "    "
   ]
  },
  {
   "cell_type": "code",
   "execution_count": null,
   "metadata": {},
   "outputs": [],
   "source": []
  }
 ],
 "metadata": {
  "kernelspec": {
   "display_name": "Python 3 (ipykernel)",
   "language": "python",
   "name": "python3"
  },
  "language_info": {
   "codemirror_mode": {
    "name": "ipython",
    "version": 3
   },
   "file_extension": ".py",
   "mimetype": "text/x-python",
   "name": "python",
   "nbconvert_exporter": "python",
   "pygments_lexer": "ipython3",
   "version": "3.10.0"
  }
 },
 "nbformat": 4,
 "nbformat_minor": 4
}
